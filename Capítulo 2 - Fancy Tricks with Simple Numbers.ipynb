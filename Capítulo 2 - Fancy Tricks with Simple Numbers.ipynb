{
 "cells": [
  {
   "cell_type": "markdown",
   "id": "434522c8",
   "metadata": {},
   "source": [
    "# Capítulo 2: Fancy Tricks with Simple Numbers"
   ]
  },
  {
   "cell_type": "markdown",
   "id": "ec859ae2",
   "metadata": {},
   "source": [
    "### Bibliotecas básicas e outros imports"
   ]
  },
  {
   "cell_type": "code",
   "execution_count": 1,
   "id": "e343bb02",
   "metadata": {
    "ExecuteTime": {
     "end_time": "2021-09-27T09:39:12.335921Z",
     "start_time": "2021-09-27T09:39:03.506924Z"
    }
   },
   "outputs": [],
   "source": [
    "import json\n",
    "import warnings\n",
    "import numpy as np\n",
    "import pandas as pd\n",
    "import seaborn as sns\n",
    "import matplotlib.pyplot as plt\n",
    "\n",
    "warnings.filterwarnings('ignore')\n",
    "\n",
    "pd.set_option('display.max_rows', 1000)\n",
    "pd.set_option('display.max_columns', 200)\n",
    "np.set_printoptions(suppress=True, precision=3)"
   ]
  },
  {
   "cell_type": "markdown",
   "id": "ff7febf2",
   "metadata": {},
   "source": [
    "## Binarização"
   ]
  },
  {
   "cell_type": "markdown",
   "id": "bcc457d7",
   "metadata": {},
   "source": [
    "### Carregamento dos dados"
   ]
  },
  {
   "cell_type": "code",
   "execution_count": 2,
   "id": "470848a0",
   "metadata": {
    "ExecuteTime": {
     "end_time": "2021-09-27T09:43:53.333781Z",
     "start_time": "2021-09-27T09:39:12.344955Z"
    }
   },
   "outputs": [
    {
     "name": "stdout",
     "output_type": "stream",
     "text": [
      "(48373586, 3)\n"
     ]
    },
    {
     "data": {
      "text/html": [
       "<div>\n",
       "<style scoped>\n",
       "    .dataframe tbody tr th:only-of-type {\n",
       "        vertical-align: middle;\n",
       "    }\n",
       "\n",
       "    .dataframe tbody tr th {\n",
       "        vertical-align: top;\n",
       "    }\n",
       "\n",
       "    .dataframe thead th {\n",
       "        text-align: right;\n",
       "    }\n",
       "</style>\n",
       "<table border=\"1\" class=\"dataframe\">\n",
       "  <thead>\n",
       "    <tr style=\"text-align: right;\">\n",
       "      <th></th>\n",
       "      <th>0</th>\n",
       "      <th>1</th>\n",
       "      <th>2</th>\n",
       "    </tr>\n",
       "  </thead>\n",
       "  <tbody>\n",
       "    <tr>\n",
       "      <th>0</th>\n",
       "      <td>b80344d063b5ccb3212f76538f3d9e43d87dca9e</td>\n",
       "      <td>SOAKIMP12A8C130995</td>\n",
       "      <td>1</td>\n",
       "    </tr>\n",
       "    <tr>\n",
       "      <th>1</th>\n",
       "      <td>b80344d063b5ccb3212f76538f3d9e43d87dca9e</td>\n",
       "      <td>SOAPDEY12A81C210A9</td>\n",
       "      <td>1</td>\n",
       "    </tr>\n",
       "    <tr>\n",
       "      <th>2</th>\n",
       "      <td>b80344d063b5ccb3212f76538f3d9e43d87dca9e</td>\n",
       "      <td>SOBBMDR12A8C13253B</td>\n",
       "      <td>2</td>\n",
       "    </tr>\n",
       "    <tr>\n",
       "      <th>3</th>\n",
       "      <td>b80344d063b5ccb3212f76538f3d9e43d87dca9e</td>\n",
       "      <td>SOBFNSP12AF72A0E22</td>\n",
       "      <td>1</td>\n",
       "    </tr>\n",
       "    <tr>\n",
       "      <th>4</th>\n",
       "      <td>b80344d063b5ccb3212f76538f3d9e43d87dca9e</td>\n",
       "      <td>SOBFOVM12A58A7D494</td>\n",
       "      <td>1</td>\n",
       "    </tr>\n",
       "  </tbody>\n",
       "</table>\n",
       "</div>"
      ],
      "text/plain": [
       "                                          0                   1  2\n",
       "0  b80344d063b5ccb3212f76538f3d9e43d87dca9e  SOAKIMP12A8C130995  1\n",
       "1  b80344d063b5ccb3212f76538f3d9e43d87dca9e  SOAPDEY12A81C210A9  1\n",
       "2  b80344d063b5ccb3212f76538f3d9e43d87dca9e  SOBBMDR12A8C13253B  2\n",
       "3  b80344d063b5ccb3212f76538f3d9e43d87dca9e  SOBFNSP12AF72A0E22  1\n",
       "4  b80344d063b5ccb3212f76538f3d9e43d87dca9e  SOBFOVM12A58A7D494  1"
      ]
     },
     "execution_count": 2,
     "metadata": {},
     "output_type": "execute_result"
    }
   ],
   "source": [
    "listen_count = pd.read_csv('./datasets/train_triplets.txt', header=None, delimiter='\\t')\n",
    "print(listen_count.shape)\n",
    "listen_count.head()"
   ]
  },
  {
   "cell_type": "markdown",
   "id": "21d3f768",
   "metadata": {},
   "source": [
    "### Visualizando a contagem de escutas"
   ]
  },
  {
   "cell_type": "code",
   "execution_count": 3,
   "id": "c5b9ca80",
   "metadata": {
    "ExecuteTime": {
     "end_time": "2021-09-27T09:44:02.610499Z",
     "start_time": "2021-09-27T09:43:53.388104Z"
    }
   },
   "outputs": [
    {
     "data": {
      "image/png": "[encoded data removed]",
      "text/plain": [
       "<Figure size 432x288 with 1 Axes>"
      ]
     },
     "metadata": {},
     "output_type": "display_data"
    }
   ],
   "source": [
    "sns.set_style('whitegrid')\n",
    "fig, ax = plt.subplots()\n",
    "listen_count[2].hist(ax=ax, bins=100)\n",
    "ax.set_yscale('log')\n",
    "ax.tick_params(labelsize=14)\n",
    "ax.set_xlabel('Contagem de escuta', fontsize=14)\n",
    "ax.set_ylabel('Ocorrência', fontsize=14)\n",
    "plt.show()"
   ]
  },
  {
   "cell_type": "markdown",
   "id": "da45993c",
   "metadata": {},
   "source": [
    "### Binarizando contagens de escuta no conjunto de dados de milhões de músicas"
   ]
  },
  {
   "cell_type": "code",
   "execution_count": 4,
   "id": "5e5e03ed",
   "metadata": {
    "ExecuteTime": {
     "end_time": "2021-09-27T09:44:02.847910Z",
     "start_time": "2021-09-27T09:44:02.613428Z"
    }
   },
   "outputs": [
    {
     "data": {
      "text/html": [
       "<div>\n",
       "<style scoped>\n",
       "    .dataframe tbody tr th:only-of-type {\n",
       "        vertical-align: middle;\n",
       "    }\n",
       "\n",
       "    .dataframe tbody tr th {\n",
       "        vertical-align: top;\n",
       "    }\n",
       "\n",
       "    .dataframe thead th {\n",
       "        text-align: right;\n",
       "    }\n",
       "</style>\n",
       "<table border=\"1\" class=\"dataframe\">\n",
       "  <thead>\n",
       "    <tr style=\"text-align: right;\">\n",
       "      <th></th>\n",
       "      <th>0</th>\n",
       "      <th>1</th>\n",
       "      <th>2</th>\n",
       "    </tr>\n",
       "  </thead>\n",
       "  <tbody>\n",
       "    <tr>\n",
       "      <th>0</th>\n",
       "      <td>b80344d063b5ccb3212f76538f3d9e43d87dca9e</td>\n",
       "      <td>SOAKIMP12A8C130995</td>\n",
       "      <td>1</td>\n",
       "    </tr>\n",
       "  </tbody>\n",
       "</table>\n",
       "</div>"
      ],
      "text/plain": [
       "                                          0                   1  2\n",
       "0  b80344d063b5ccb3212f76538f3d9e43d87dca9e  SOAKIMP12A8C130995  1"
      ]
     },
     "execution_count": 4,
     "metadata": {},
     "output_type": "execute_result"
    }
   ],
   "source": [
    "#Apenas contagens diferentes de zero são incluídas. \n",
    "#Para binarizar a contagem, precisamos apenas definir a coluna como 1\n",
    "listen_count[2] = 1\n",
    "listen_count.head(1)"
   ]
  },
  {
   "cell_type": "markdown",
   "id": "11e1e5ab",
   "metadata": {},
   "source": [
    "## Quantização ou Binning"
   ]
  },
  {
   "cell_type": "markdown",
   "id": "03564788",
   "metadata": {},
   "source": [
    "### Carregamento dos dados"
   ]
  },
  {
   "cell_type": "code",
   "execution_count": 5,
   "id": "9eff72b7",
   "metadata": {
    "ExecuteTime": {
     "end_time": "2021-09-27T09:44:19.482426Z",
     "start_time": "2021-09-27T09:44:02.850331Z"
    }
   },
   "outputs": [
    {
     "name": "stdout",
     "output_type": "stream",
     "text": [
      "(160585, 14)\n"
     ]
    },
    {
     "data": {
      "text/html": [
       "<div>\n",
       "<style scoped>\n",
       "    .dataframe tbody tr th:only-of-type {\n",
       "        vertical-align: middle;\n",
       "    }\n",
       "\n",
       "    .dataframe tbody tr th {\n",
       "        vertical-align: top;\n",
       "    }\n",
       "\n",
       "    .dataframe thead th {\n",
       "        text-align: right;\n",
       "    }\n",
       "</style>\n",
       "<table border=\"1\" class=\"dataframe\">\n",
       "  <thead>\n",
       "    <tr style=\"text-align: right;\">\n",
       "      <th></th>\n",
       "      <th>business_id</th>\n",
       "      <th>name</th>\n",
       "      <th>address</th>\n",
       "      <th>city</th>\n",
       "      <th>state</th>\n",
       "      <th>postal_code</th>\n",
       "      <th>latitude</th>\n",
       "      <th>longitude</th>\n",
       "      <th>stars</th>\n",
       "      <th>review_count</th>\n",
       "      <th>is_open</th>\n",
       "      <th>attributes</th>\n",
       "      <th>categories</th>\n",
       "      <th>hours</th>\n",
       "    </tr>\n",
       "  </thead>\n",
       "  <tbody>\n",
       "    <tr>\n",
       "      <th>0</th>\n",
       "      <td>6iYb2HFDywm3zjuRg0shjw</td>\n",
       "      <td>Oskar Blues Taproom</td>\n",
       "      <td>921 Pearl St</td>\n",
       "      <td>Boulder</td>\n",
       "      <td>CO</td>\n",
       "      <td>80302</td>\n",
       "      <td>40.017544</td>\n",
       "      <td>-105.283348</td>\n",
       "      <td>4.0</td>\n",
       "      <td>86</td>\n",
       "      <td>1</td>\n",
       "      <td>{'RestaurantsTableService': 'True', 'WiFi': 'u...</td>\n",
       "      <td>Gastropubs, Food, Beer Gardens, Restaurants, B...</td>\n",
       "      <td>{'Monday': '11:0-23:0', 'Tuesday': '11:0-23:0'...</td>\n",
       "    </tr>\n",
       "    <tr>\n",
       "      <th>1</th>\n",
       "      <td>tCbdrRPZA0oiIYSmHG3J0w</td>\n",
       "      <td>Flying Elephants at PDX</td>\n",
       "      <td>7000 NE Airport Way</td>\n",
       "      <td>Portland</td>\n",
       "      <td>OR</td>\n",
       "      <td>97218</td>\n",
       "      <td>45.588906</td>\n",
       "      <td>-122.593331</td>\n",
       "      <td>4.0</td>\n",
       "      <td>126</td>\n",
       "      <td>1</td>\n",
       "      <td>{'RestaurantsTakeOut': 'True', 'RestaurantsAtt...</td>\n",
       "      <td>Salad, Soup, Sandwiches, Delis, Restaurants, C...</td>\n",
       "      <td>{'Monday': '5:0-18:0', 'Tuesday': '5:0-17:0', ...</td>\n",
       "    </tr>\n",
       "    <tr>\n",
       "      <th>2</th>\n",
       "      <td>bvN78flM8NLprQ1a1y5dRg</td>\n",
       "      <td>The Reclaimory</td>\n",
       "      <td>4720 Hawthorne Ave</td>\n",
       "      <td>Portland</td>\n",
       "      <td>OR</td>\n",
       "      <td>97214</td>\n",
       "      <td>45.511907</td>\n",
       "      <td>-122.613693</td>\n",
       "      <td>4.5</td>\n",
       "      <td>13</td>\n",
       "      <td>1</td>\n",
       "      <td>{'BusinessAcceptsCreditCards': 'True', 'Restau...</td>\n",
       "      <td>Antiques, Fashion, Used, Vintage &amp; Consignment...</td>\n",
       "      <td>{'Thursday': '11:0-18:0', 'Friday': '11:0-18:0...</td>\n",
       "    </tr>\n",
       "    <tr>\n",
       "      <th>3</th>\n",
       "      <td>oaepsyvc0J17qwi8cfrOWg</td>\n",
       "      <td>Great Clips</td>\n",
       "      <td>2566 Enterprise Rd</td>\n",
       "      <td>Orange City</td>\n",
       "      <td>FL</td>\n",
       "      <td>32763</td>\n",
       "      <td>28.914482</td>\n",
       "      <td>-81.295979</td>\n",
       "      <td>3.0</td>\n",
       "      <td>8</td>\n",
       "      <td>1</td>\n",
       "      <td>{'RestaurantsPriceRange2': '1', 'BusinessAccep...</td>\n",
       "      <td>Beauty &amp; Spas, Hair Salons</td>\n",
       "      <td>None</td>\n",
       "    </tr>\n",
       "    <tr>\n",
       "      <th>4</th>\n",
       "      <td>PE9uqAjdw0E4-8mjGl3wVA</td>\n",
       "      <td>Crossfit Terminus</td>\n",
       "      <td>1046 Memorial Dr SE</td>\n",
       "      <td>Atlanta</td>\n",
       "      <td>GA</td>\n",
       "      <td>30316</td>\n",
       "      <td>33.747027</td>\n",
       "      <td>-84.353424</td>\n",
       "      <td>4.0</td>\n",
       "      <td>14</td>\n",
       "      <td>1</td>\n",
       "      <td>{'GoodForKids': 'False', 'BusinessParking': '{...</td>\n",
       "      <td>Gyms, Active Life, Interval Training Gyms, Fit...</td>\n",
       "      <td>{'Monday': '16:0-19:0', 'Tuesday': '16:0-19:0'...</td>\n",
       "    </tr>\n",
       "  </tbody>\n",
       "</table>\n",
       "</div>"
      ],
      "text/plain": [
       "              business_id                     name              address  \\\n",
       "0  6iYb2HFDywm3zjuRg0shjw      Oskar Blues Taproom         921 Pearl St   \n",
       "1  tCbdrRPZA0oiIYSmHG3J0w  Flying Elephants at PDX  7000 NE Airport Way   \n",
       "2  bvN78flM8NLprQ1a1y5dRg           The Reclaimory   4720 Hawthorne Ave   \n",
       "3  oaepsyvc0J17qwi8cfrOWg              Great Clips   2566 Enterprise Rd   \n",
       "4  PE9uqAjdw0E4-8mjGl3wVA        Crossfit Terminus  1046 Memorial Dr SE   \n",
       "\n",
       "          city state postal_code   latitude   longitude  stars  review_count  \\\n",
       "0      Boulder    CO       80302  40.017544 -105.283348    4.0            86   \n",
       "1     Portland    OR       97218  45.588906 -122.593331    4.0           126   \n",
       "2     Portland    OR       97214  45.511907 -122.613693    4.5            13   \n",
       "3  Orange City    FL       32763  28.914482  -81.295979    3.0             8   \n",
       "4      Atlanta    GA       30316  33.747027  -84.353424    4.0            14   \n",
       "\n",
       "   is_open                                         attributes  \\\n",
       "0        1  {'RestaurantsTableService': 'True', 'WiFi': 'u...   \n",
       "1        1  {'RestaurantsTakeOut': 'True', 'RestaurantsAtt...   \n",
       "2        1  {'BusinessAcceptsCreditCards': 'True', 'Restau...   \n",
       "3        1  {'RestaurantsPriceRange2': '1', 'BusinessAccep...   \n",
       "4        1  {'GoodForKids': 'False', 'BusinessParking': '{...   \n",
       "\n",
       "                                          categories  \\\n",
       "0  Gastropubs, Food, Beer Gardens, Restaurants, B...   \n",
       "1  Salad, Soup, Sandwiches, Delis, Restaurants, C...   \n",
       "2  Antiques, Fashion, Used, Vintage & Consignment...   \n",
       "3                         Beauty & Spas, Hair Salons   \n",
       "4  Gyms, Active Life, Interval Training Gyms, Fit...   \n",
       "\n",
       "                                               hours  \n",
       "0  {'Monday': '11:0-23:0', 'Tuesday': '11:0-23:0'...  \n",
       "1  {'Monday': '5:0-18:0', 'Tuesday': '5:0-17:0', ...  \n",
       "2  {'Thursday': '11:0-18:0', 'Friday': '11:0-18:0...  \n",
       "3                                               None  \n",
       "4  {'Monday': '16:0-19:0', 'Tuesday': '16:0-19:0'...  "
      ]
     },
     "execution_count": 5,
     "metadata": {},
     "output_type": "execute_result"
    }
   ],
   "source": [
    "biz_file = open('./datasets/archive/yelp_academic_dataset_business.json')\n",
    "biz_df = pd.DataFrame([json.loads(x) for x in biz_file.readlines()])\n",
    "biz_file.close()\n",
    "\n",
    "print(biz_df.shape)\n",
    "biz_df.head()"
   ]
  },
  {
   "cell_type": "markdown",
   "id": "ac4cabd3",
   "metadata": {},
   "source": [
    "### Visualizando contagens de resenhas de negócios"
   ]
  },
  {
   "cell_type": "code",
   "execution_count": 6,
   "id": "ac4c5343",
   "metadata": {
    "ExecuteTime": {
     "end_time": "2021-09-27T09:44:20.692655Z",
     "start_time": "2021-09-27T09:44:19.485433Z"
    }
   },
   "outputs": [
    {
     "data": {
      "image/png": "[encoded data removed]",
      "text/plain": [
       "<Figure size 432x288 with 1 Axes>"
      ]
     },
     "metadata": {},
     "output_type": "display_data"
    }
   ],
   "source": [
    "sns.set_style('whitegrid')\n",
    "fig, ax = plt.subplots()\n",
    "biz_df['review_count'].hist(ax=ax, bins=100)\n",
    "ax.set_yscale('log')\n",
    "ax.tick_params(labelsize=14)\n",
    "ax.set_xlabel('Contagens de resenhas', fontsize=14)\n",
    "ax.set_ylabel('Ocorrência', fontsize=14)\n",
    "plt.show()"
   ]
  },
  {
   "cell_type": "markdown",
   "id": "07cb9c2b",
   "metadata": {},
   "source": [
    "### Binning de largura fixa"
   ]
  },
  {
   "cell_type": "code",
   "execution_count": 7,
   "id": "a4b52769",
   "metadata": {
    "ExecuteTime": {
     "end_time": "2021-09-27T09:44:20.753684Z",
     "start_time": "2021-09-27T09:44:20.695191Z"
    }
   },
   "outputs": [
    {
     "name": "stdout",
     "output_type": "stream",
     "text": [
      "[45 58 93 69 86 76 50 21 90 74 72 52 19  0 18 69 46 88 30 98]\n"
     ]
    },
    {
     "data": {
      "text/plain": [
       "array([4, 5, 9, 6, 8, 7, 5, 2, 9, 7, 7, 5, 1, 0, 1, 6, 4, 8, 3, 9])"
      ]
     },
     "execution_count": 7,
     "metadata": {},
     "output_type": "execute_result"
    }
   ],
   "source": [
    "small_counts = np.random.randint(0, 100, 20)\n",
    "print(small_counts)\n",
    "# Mapeie para caixas com espaçamento uniforme 0-9 por divisão\n",
    "np.floor_divide(small_counts, 10)"
   ]
  },
  {
   "cell_type": "code",
   "execution_count": 8,
   "id": "622f7d6a",
   "metadata": {
    "ExecuteTime": {
     "end_time": "2021-09-27T09:44:21.031076Z",
     "start_time": "2021-09-27T09:44:20.760343Z"
    }
   },
   "outputs": [
    {
     "data": {
      "text/plain": [
       "array([2., 3., 4., 1., 0., 2., 2., 3., 3., 4., 4., 1., 1., 3., 2., 2., 4.])"
      ]
     },
     "execution_count": 8,
     "metadata": {},
     "output_type": "execute_result"
    }
   ],
   "source": [
    "large_counts = [296, 8286, 64011, 80, 3, 725, 867, 2215, 7689, 11495, 91897, 44, 28, 7971, 926, 122, 22222]\n",
    "# Mapeie para caixas de largura exponencial por meio da função de registro\n",
    "np.floor(np.log10(large_counts))"
   ]
  },
  {
   "cell_type": "markdown",
   "id": "331e2594",
   "metadata": {},
   "source": [
    "### Bining de quantis\n",
    "\n",
    "> Os quantis dividem os dados ordenados em q subconjuntos de dados de dimensão essencialmente igual. Ex.: Os 100-quantis são chamados percentis e os 4-quantis são chamados quartis."
   ]
  },
  {
   "cell_type": "code",
   "execution_count": 9,
   "id": "4f76cb68",
   "metadata": {
    "ExecuteTime": {
     "end_time": "2021-09-27T09:44:21.284471Z",
     "start_time": "2021-09-27T09:44:21.037916Z"
    }
   },
   "outputs": [
    {
     "data": {
      "text/plain": [
       "array([1, 2, 3, 0, 0, 1, 1, 2, 2, 3, 3, 0, 0, 2, 1, 0, 3])"
      ]
     },
     "execution_count": 9,
     "metadata": {},
     "output_type": "execute_result"
    }
   ],
   "source": [
    "#Mapeie as contagens para quartis\n",
    "pd.qcut(large_counts, 4, labels=False)"
   ]
  },
  {
   "cell_type": "code",
   "execution_count": 10,
   "id": "ad73a935",
   "metadata": {
    "ExecuteTime": {
     "end_time": "2021-09-27T09:44:21.491930Z",
     "start_time": "2021-09-27T09:44:21.289600Z"
    }
   },
   "outputs": [
    {
     "data": {
      "text/plain": [
       "0.25     122.0\n",
       "0.50     926.0\n",
       "0.75    8286.0\n",
       "dtype: float64"
      ]
     },
     "execution_count": 10,
     "metadata": {},
     "output_type": "execute_result"
    }
   ],
   "source": [
    "# Calcule os próprios quantis\n",
    "large_counts_series = pd.Series(large_counts)\n",
    "large_counts_series.quantile([0.25, 0.5, 0.75])"
   ]
  },
  {
   "cell_type": "markdown",
   "id": "100f5119",
   "metadata": {},
   "source": [
    "Calculando decis das contagens de avaliações de negócios do Yelp"
   ]
  },
  {
   "cell_type": "code",
   "execution_count": 11,
   "id": "659a7c8c",
   "metadata": {
    "ExecuteTime": {
     "end_time": "2021-09-27T09:44:21.828616Z",
     "start_time": "2021-09-27T09:44:21.498292Z"
    }
   },
   "outputs": [
    {
     "data": {
      "text/plain": [
       "0.1      6.0\n",
       "0.2      7.0\n",
       "0.3      9.0\n",
       "0.4     12.0\n",
       "0.5     17.0\n",
       "0.6     24.0\n",
       "0.7     35.0\n",
       "0.8     57.0\n",
       "0.9    117.0\n",
       "Name: review_count, dtype: float64"
      ]
     },
     "execution_count": 11,
     "metadata": {},
     "output_type": "execute_result"
    }
   ],
   "source": [
    "deciles = biz_df['review_count'].quantile([.1, .2, .3, .4, .5, .6, .7, .8, .9])\n",
    "deciles"
   ]
  },
  {
   "cell_type": "code",
   "execution_count": 12,
   "id": "b0c5f1e1",
   "metadata": {
    "ExecuteTime": {
     "end_time": "2021-09-27T09:44:24.304114Z",
     "start_time": "2021-09-27T09:44:21.833989Z"
    }
   },
   "outputs": [
    {
     "data": {
      "image/png": "[encoded data removed]",
      "text/plain": [
       "<Figure size 432x288 with 1 Axes>"
      ]
     },
     "metadata": {},
     "output_type": "display_data"
    }
   ],
   "source": [
    "sns.set_style('whitegrid')\n",
    "fig, ax = plt.subplots()\n",
    "biz_df['review_count'].hist(ax=ax, bins=100)\n",
    "\n",
    "for pos in deciles:\n",
    "    handle = plt.axvline(pos, color='r')\n",
    "    ax.legend([handle], ['deciles'], fontsize=14)\n",
    "\n",
    "ax.set_yscale('log')\n",
    "ax.set_xscale('log')\n",
    "ax.tick_params(labelsize=14)\n",
    "ax.set_xlabel('Contagens de resenhas', fontsize=14)\n",
    "ax.set_ylabel('Ocorrência', fontsize=14)\n",
    "plt.show()"
   ]
  },
  {
   "cell_type": "markdown",
   "id": "4bb349c7",
   "metadata": {},
   "source": [
    "## Transformação de log"
   ]
  },
  {
   "cell_type": "code",
   "execution_count": 13,
   "id": "6b455c09",
   "metadata": {
    "ExecuteTime": {
     "end_time": "2021-09-27T09:44:25.309187Z",
     "start_time": "2021-09-27T09:44:24.306405Z"
    }
   },
   "outputs": [],
   "source": [
    "## Calcula a transformação do log da contagem de revisão\n",
    "biz_df['log_review_count'] = np.log10(biz_df['review_count'] + 1)"
   ]
  },
  {
   "cell_type": "code",
   "execution_count": 14,
   "id": "ea81334a",
   "metadata": {
    "ExecuteTime": {
     "end_time": "2021-09-27T09:44:26.574534Z",
     "start_time": "2021-09-27T09:44:25.313638Z"
    }
   },
   "outputs": [
    {
     "data": {
      "image/png": "[encoded data removed]",
      "text/plain": [
       "<Figure size 432x288 with 2 Axes>"
      ]
     },
     "metadata": {},
     "output_type": "display_data"
    }
   ],
   "source": [
    "fig, (ax1, ax2) = plt.subplots(2,1)\n",
    "\n",
    "biz_df['review_count'].hist(ax=ax1, bins=100)\n",
    "ax1.tick_params(labelsize=14)\n",
    "ax1.set_xlabel('review_count', fontsize=14)\n",
    "ax1.set_ylabel('Occurrence', fontsize=14)\n",
    "\n",
    "biz_df['log_review_count'].hist(ax=ax2, bins=100)\n",
    "ax2.tick_params(labelsize=14)\n",
    "ax2.set_xlabel('log10(review_count))', fontsize=14)\n",
    "ax2.set_ylabel('Occurrence', fontsize=14)\n",
    "plt.show()"
   ]
  },
  {
   "cell_type": "markdown",
   "id": "790cbac6",
   "metadata": {},
   "source": [
    "### Comparando modelos com e sem transformação de log"
   ]
  },
  {
   "cell_type": "code",
   "execution_count": 15,
   "id": "3974debe",
   "metadata": {
    "ExecuteTime": {
     "end_time": "2021-09-27T09:44:30.938111Z",
     "start_time": "2021-09-27T09:44:26.577091Z"
    }
   },
   "outputs": [],
   "source": [
    "from sklearn.linear_model import LinearRegression\n",
    "from sklearn.model_selection import cross_val_score"
   ]
  },
  {
   "cell_type": "markdown",
   "id": "f2de215d",
   "metadata": {},
   "source": [
    "Yelp review"
   ]
  },
  {
   "cell_type": "code",
   "execution_count": 16,
   "id": "80abf19f",
   "metadata": {
    "ExecuteTime": {
     "end_time": "2021-09-27T09:44:32.163463Z",
     "start_time": "2021-09-27T09:44:30.943399Z"
    }
   },
   "outputs": [
    {
     "name": "stdout",
     "output_type": "stream",
     "text": [
      "R-squared score without log transform: 0.00113 (+/- 0.00050)\n",
      "R-squared score with log transform: 0.00001 (+/- 0.00016)\n"
     ]
    }
   ],
   "source": [
    "m_orig = LinearRegression()\n",
    "scores_orig = cross_val_score(m_orig, biz_df[['review_count']], biz_df['stars'], cv=10)\n",
    "\n",
    "m_log = LinearRegression()\n",
    "scores_log = cross_val_score(m_log, biz_df[['log_review_count']], biz_df['stars'], cv=10)\n",
    "\n",
    "print(\"R-squared score without log transform: %0.5f (+/- %0.5f)\" % (scores_orig.mean(), scores_orig.std() * 2))\n",
    "print(\"R-squared score with log transform: %0.5f (+/- %0.5f)\" % (scores_log.mean(), scores_log.std() * 2))"
   ]
  },
  {
   "cell_type": "code",
   "execution_count": 17,
   "id": "7da77582",
   "metadata": {
    "ExecuteTime": {
     "end_time": "2021-09-27T09:44:33.955305Z",
     "start_time": "2021-09-27T09:44:32.166172Z"
    }
   },
   "outputs": [
    {
     "data": {
      "image/png": "[encoded data removed]",
      "text/plain": [
       "<Figure size 432x288 with 2 Axes>"
      ]
     },
     "metadata": {},
     "output_type": "display_data"
    }
   ],
   "source": [
    "fig, (ax1, ax2) = plt.subplots(2,1)\n",
    "ax1.scatter(biz_df['review_count'], biz_df['stars'])\n",
    "ax1.tick_params(labelsize=12)\n",
    "ax1.set_xlabel('Review Count', fontsize=12)\n",
    "ax1.set_ylabel('Mean Star Rating', fontsize=12)\n",
    "\n",
    "ax2.scatter(biz_df['log_review_count'], biz_df['stars'])\n",
    "ax2.tick_params(labelsize=12)\n",
    "ax2.set_xlabel('Log of Review Count', fontsize=12)\n",
    "ax2.set_ylabel('Mean Star Rating', fontsize=12)\n",
    "plt.show()"
   ]
  },
  {
   "cell_type": "markdown",
   "id": "c3c2580e",
   "metadata": {},
   "source": [
    "Online News Popularity"
   ]
  },
  {
   "cell_type": "code",
   "execution_count": 18,
   "id": "5fb19f0e",
   "metadata": {
    "ExecuteTime": {
     "end_time": "2021-09-27T09:44:39.568455Z",
     "start_time": "2021-09-27T09:44:33.958046Z"
    }
   },
   "outputs": [
    {
     "name": "stdout",
     "output_type": "stream",
     "text": [
      "(39644, 61)\n"
     ]
    },
    {
     "data": {
      "text/html": [
       "<div>\n",
       "<style scoped>\n",
       "    .dataframe tbody tr th:only-of-type {\n",
       "        vertical-align: middle;\n",
       "    }\n",
       "\n",
       "    .dataframe tbody tr th {\n",
       "        vertical-align: top;\n",
       "    }\n",
       "\n",
       "    .dataframe thead th {\n",
       "        text-align: right;\n",
       "    }\n",
       "</style>\n",
       "<table border=\"1\" class=\"dataframe\">\n",
       "  <thead>\n",
       "    <tr style=\"text-align: right;\">\n",
       "      <th></th>\n",
       "      <th>url</th>\n",
       "      <th>timedelta</th>\n",
       "      <th>n_tokens_title</th>\n",
       "      <th>n_tokens_content</th>\n",
       "      <th>n_unique_tokens</th>\n",
       "      <th>n_non_stop_words</th>\n",
       "      <th>n_non_stop_unique_tokens</th>\n",
       "      <th>num_hrefs</th>\n",
       "      <th>num_self_hrefs</th>\n",
       "      <th>num_imgs</th>\n",
       "      <th>num_videos</th>\n",
       "      <th>average_token_length</th>\n",
       "      <th>num_keywords</th>\n",
       "      <th>data_channel_is_lifestyle</th>\n",
       "      <th>data_channel_is_entertainment</th>\n",
       "      <th>data_channel_is_bus</th>\n",
       "      <th>data_channel_is_socmed</th>\n",
       "      <th>data_channel_is_tech</th>\n",
       "      <th>data_channel_is_world</th>\n",
       "      <th>kw_min_min</th>\n",
       "      <th>kw_max_min</th>\n",
       "      <th>kw_avg_min</th>\n",
       "      <th>kw_min_max</th>\n",
       "      <th>kw_max_max</th>\n",
       "      <th>kw_avg_max</th>\n",
       "      <th>kw_min_avg</th>\n",
       "      <th>kw_max_avg</th>\n",
       "      <th>kw_avg_avg</th>\n",
       "      <th>self_reference_min_shares</th>\n",
       "      <th>self_reference_max_shares</th>\n",
       "      <th>self_reference_avg_sharess</th>\n",
       "      <th>weekday_is_monday</th>\n",
       "      <th>weekday_is_tuesday</th>\n",
       "      <th>weekday_is_wednesday</th>\n",
       "      <th>weekday_is_thursday</th>\n",
       "      <th>weekday_is_friday</th>\n",
       "      <th>weekday_is_saturday</th>\n",
       "      <th>weekday_is_sunday</th>\n",
       "      <th>is_weekend</th>\n",
       "      <th>LDA_00</th>\n",
       "      <th>LDA_01</th>\n",
       "      <th>LDA_02</th>\n",
       "      <th>LDA_03</th>\n",
       "      <th>LDA_04</th>\n",
       "      <th>global_subjectivity</th>\n",
       "      <th>global_sentiment_polarity</th>\n",
       "      <th>global_rate_positive_words</th>\n",
       "      <th>global_rate_negative_words</th>\n",
       "      <th>rate_positive_words</th>\n",
       "      <th>rate_negative_words</th>\n",
       "      <th>avg_positive_polarity</th>\n",
       "      <th>min_positive_polarity</th>\n",
       "      <th>max_positive_polarity</th>\n",
       "      <th>avg_negative_polarity</th>\n",
       "      <th>min_negative_polarity</th>\n",
       "      <th>max_negative_polarity</th>\n",
       "      <th>title_subjectivity</th>\n",
       "      <th>title_sentiment_polarity</th>\n",
       "      <th>abs_title_subjectivity</th>\n",
       "      <th>abs_title_sentiment_polarity</th>\n",
       "      <th>shares</th>\n",
       "    </tr>\n",
       "  </thead>\n",
       "  <tbody>\n",
       "    <tr>\n",
       "      <th>18985</th>\n",
       "      <td>http://mashable.com/2014/01/17/marijuana-america/</td>\n",
       "      <td>356.0</td>\n",
       "      <td>8.0</td>\n",
       "      <td>437.0</td>\n",
       "      <td>0.571429</td>\n",
       "      <td>1.0</td>\n",
       "      <td>0.773279</td>\n",
       "      <td>6.0</td>\n",
       "      <td>4.0</td>\n",
       "      <td>11.0</td>\n",
       "      <td>1.0</td>\n",
       "      <td>4.675057</td>\n",
       "      <td>9.0</td>\n",
       "      <td>0.0</td>\n",
       "      <td>1.0</td>\n",
       "      <td>0.0</td>\n",
       "      <td>0.0</td>\n",
       "      <td>0.0</td>\n",
       "      <td>0.0</td>\n",
       "      <td>-1.0</td>\n",
       "      <td>662.0</td>\n",
       "      <td>153.7725</td>\n",
       "      <td>0.0</td>\n",
       "      <td>843300.0</td>\n",
       "      <td>427411.111111</td>\n",
       "      <td>0.0</td>\n",
       "      <td>7459.884467</td>\n",
       "      <td>4540.868896</td>\n",
       "      <td>783.0</td>\n",
       "      <td>783.0</td>\n",
       "      <td>783.0</td>\n",
       "      <td>0.0</td>\n",
       "      <td>0.0</td>\n",
       "      <td>0.0</td>\n",
       "      <td>0.0</td>\n",
       "      <td>1.0</td>\n",
       "      <td>0.0</td>\n",
       "      <td>0.0</td>\n",
       "      <td>0.0</td>\n",
       "      <td>0.022223</td>\n",
       "      <td>0.167722</td>\n",
       "      <td>0.022223</td>\n",
       "      <td>0.765611</td>\n",
       "      <td>0.022222</td>\n",
       "      <td>0.523276</td>\n",
       "      <td>0.183621</td>\n",
       "      <td>0.038902</td>\n",
       "      <td>0.01373</td>\n",
       "      <td>0.73913</td>\n",
       "      <td>0.26087</td>\n",
       "      <td>0.442647</td>\n",
       "      <td>0.1</td>\n",
       "      <td>1.0</td>\n",
       "      <td>-0.461111</td>\n",
       "      <td>-0.8</td>\n",
       "      <td>-0.166667</td>\n",
       "      <td>0.45</td>\n",
       "      <td>0.45</td>\n",
       "      <td>0.05</td>\n",
       "      <td>0.45</td>\n",
       "      <td>7900</td>\n",
       "    </tr>\n",
       "  </tbody>\n",
       "</table>\n",
       "</div>"
      ],
      "text/plain": [
       "                                                     url  timedelta  \\\n",
       "18985  http://mashable.com/2014/01/17/marijuana-america/      356.0   \n",
       "\n",
       "       n_tokens_title  n_tokens_content  n_unique_tokens  n_non_stop_words  \\\n",
       "18985             8.0             437.0         0.571429               1.0   \n",
       "\n",
       "       n_non_stop_unique_tokens  num_hrefs  num_self_hrefs  num_imgs  \\\n",
       "18985                  0.773279        6.0             4.0      11.0   \n",
       "\n",
       "       num_videos  average_token_length  num_keywords  \\\n",
       "18985         1.0              4.675057           9.0   \n",
       "\n",
       "       data_channel_is_lifestyle  data_channel_is_entertainment  \\\n",
       "18985                        0.0                            1.0   \n",
       "\n",
       "       data_channel_is_bus  data_channel_is_socmed  data_channel_is_tech  \\\n",
       "18985                  0.0                     0.0                   0.0   \n",
       "\n",
       "       data_channel_is_world  kw_min_min  kw_max_min  kw_avg_min  kw_min_max  \\\n",
       "18985                    0.0        -1.0       662.0    153.7725         0.0   \n",
       "\n",
       "       kw_max_max     kw_avg_max  kw_min_avg   kw_max_avg   kw_avg_avg  \\\n",
       "18985    843300.0  427411.111111         0.0  7459.884467  4540.868896   \n",
       "\n",
       "       self_reference_min_shares  self_reference_max_shares  \\\n",
       "18985                      783.0                      783.0   \n",
       "\n",
       "       self_reference_avg_sharess  weekday_is_monday  weekday_is_tuesday  \\\n",
       "18985                       783.0                0.0                 0.0   \n",
       "\n",
       "       weekday_is_wednesday  weekday_is_thursday  weekday_is_friday  \\\n",
       "18985                   0.0                  0.0                1.0   \n",
       "\n",
       "       weekday_is_saturday  weekday_is_sunday  is_weekend    LDA_00    LDA_01  \\\n",
       "18985                  0.0                0.0         0.0  0.022223  0.167722   \n",
       "\n",
       "         LDA_02    LDA_03    LDA_04  global_subjectivity  \\\n",
       "18985  0.022223  0.765611  0.022222             0.523276   \n",
       "\n",
       "       global_sentiment_polarity  global_rate_positive_words  \\\n",
       "18985                   0.183621                    0.038902   \n",
       "\n",
       "       global_rate_negative_words  rate_positive_words  rate_negative_words  \\\n",
       "18985                     0.01373              0.73913              0.26087   \n",
       "\n",
       "       avg_positive_polarity  min_positive_polarity  max_positive_polarity  \\\n",
       "18985               0.442647                    0.1                    1.0   \n",
       "\n",
       "       avg_negative_polarity  min_negative_polarity  max_negative_polarity  \\\n",
       "18985              -0.461111                   -0.8              -0.166667   \n",
       "\n",
       "       title_subjectivity  title_sentiment_polarity  abs_title_subjectivity  \\\n",
       "18985                0.45                      0.45                    0.05   \n",
       "\n",
       "       abs_title_sentiment_polarity  shares  \n",
       "18985                          0.45    7900  "
      ]
     },
     "execution_count": 18,
     "metadata": {},
     "output_type": "execute_result"
    }
   ],
   "source": [
    "df = pd.read_csv('./datasets/OnlineNewsPopularity.csv', delimiter=', ')\n",
    "print(df.shape)\n",
    "df.sample()"
   ]
  },
  {
   "cell_type": "code",
   "execution_count": 19,
   "id": "82f3924a",
   "metadata": {
    "ExecuteTime": {
     "end_time": "2021-09-27T09:44:39.756976Z",
     "start_time": "2021-09-27T09:44:39.571427Z"
    }
   },
   "outputs": [
    {
     "name": "stdout",
     "output_type": "stream",
     "text": [
      "R-squared score without log transform: -0.00242 (+/- 0.00509)\n",
      "R-squared score with log transform: -0.00114 (+/- 0.00418)\n"
     ]
    }
   ],
   "source": [
    "df['log_n_tokens_content'] = np.log10(df['n_tokens_content'] + 1)\n",
    "\n",
    "m_orig = LinearRegression()\n",
    "scores_orig = cross_val_score(m_orig, df[['n_tokens_content']], df['shares'], cv=10)\n",
    "\n",
    "m_log = LinearRegression()\n",
    "scores_log = cross_val_score(m_log, df[['log_n_tokens_content']], df['shares'], cv=10)\n",
    "print(\"R-squared score without log transform: %0.5f (+/- %0.5f)\" % (scores_orig.mean(), scores_orig.std() * 2))\n",
    "print(\"R-squared score with log transform: %0.5f (+/- %0.5f)\" % (scores_log.mean(), scores_log.std() * 2))"
   ]
  },
  {
   "cell_type": "code",
   "execution_count": 20,
   "id": "58429c73",
   "metadata": {
    "ExecuteTime": {
     "end_time": "2021-09-27T09:44:40.957119Z",
     "start_time": "2021-09-27T09:44:39.759435Z"
    }
   },
   "outputs": [
    {
     "data": {
      "image/png": "[encoded data removed]",
      "text/plain": [
       "<Figure size 432x288 with 2 Axes>"
      ]
     },
     "metadata": {},
     "output_type": "display_data"
    }
   ],
   "source": [
    "fig2, (ax1, ax2) = plt.subplots(2,1)\n",
    "ax1.scatter(df['n_tokens_content'], df['shares'])\n",
    "ax1.tick_params(labelsize=12)\n",
    "ax1.set_xlabel('Number of Words in Article', fontsize=12)\n",
    "ax1.set_ylabel('Number of Shares', fontsize=12)\n",
    "\n",
    "ax2.scatter(df['log_n_tokens_content'], df['shares'])\n",
    "ax2.tick_params(labelsize=12)\n",
    "ax2.set_xlabel('Log of the Number of Words in Article', fontsize=12)\n",
    "ax2.set_ylabel('Number of Shares', fontsize=12)\n",
    "plt.show()"
   ]
  },
  {
   "cell_type": "markdown",
   "id": "890b88de",
   "metadata": {},
   "source": [
    "### Transformação Box-Cox"
   ]
  },
  {
   "cell_type": "code",
   "execution_count": 21,
   "id": "76cad1b2",
   "metadata": {
    "ExecuteTime": {
     "end_time": "2021-09-27T09:44:40.963282Z",
     "start_time": "2021-09-27T09:44:40.959626Z"
    }
   },
   "outputs": [],
   "source": [
    "from scipy import stats"
   ]
  },
  {
   "cell_type": "markdown",
   "id": "8b5a2244",
   "metadata": {},
   "source": [
    "Transformação Box-Cox das contagens de avaliações de negócios do Yelp"
   ]
  },
  {
   "cell_type": "code",
   "execution_count": 24,
   "id": "782e81dd",
   "metadata": {
    "ExecuteTime": {
     "end_time": "2021-09-27T09:47:45.687949Z",
     "start_time": "2021-09-27T09:47:45.672664Z"
    }
   },
   "outputs": [
    {
     "data": {
      "text/plain": [
       "5"
      ]
     },
     "execution_count": 24,
     "metadata": {},
     "output_type": "execute_result"
    }
   ],
   "source": [
    "#A transformação Box-Cox assume que os dados de entrada são positivos. Verifique o min para ter certeza.\n",
    "biz_df['review_count'].min()"
   ]
  },
  {
   "cell_type": "code",
   "execution_count": 22,
   "id": "c06f50df",
   "metadata": {
    "ExecuteTime": {
     "end_time": "2021-09-27T09:44:41.807181Z",
     "start_time": "2021-09-27T09:44:40.965937Z"
    }
   },
   "outputs": [
    {
     "data": {
      "text/plain": [
       "-0.34662847518561846"
      ]
     },
     "execution_count": 22,
     "metadata": {},
     "output_type": "execute_result"
    }
   ],
   "source": [
    "#Definir o parâmetro lmbda como 0 nos dá a transformação do log (sem deslocamento constante)\n",
    "rc_log = stats.boxcox(biz_df['review_count'], lmbda=0)\n",
    "rc_bc, bc_params = stats.boxcox(biz_df['review_count'])\n",
    "bc_params"
   ]
  },
  {
   "cell_type": "markdown",
   "id": "50aa932c",
   "metadata": {},
   "source": [
    "Visualização dos histogramas das contagens originais, transformadas em log e transformadas em Box-Cox"
   ]
  },
  {
   "cell_type": "code",
   "execution_count": 36,
   "id": "bc1ce3c2",
   "metadata": {
    "ExecuteTime": {
     "end_time": "2021-09-27T10:02:21.576679Z",
     "start_time": "2021-09-27T10:02:17.842980Z"
    }
   },
   "outputs": [
    {
     "data": {
      "image/png": "[encoded data removed]",
      "text/plain": [
       "<Figure size 432x288 with 3 Axes>"
      ]
     },
     "metadata": {},
     "output_type": "display_data"
    }
   ],
   "source": [
    "fig, (ax1, ax2, ax3) = plt.subplots(3,1, constrained_layout=True)\n",
    "biz_df['review_count'].hist(ax=ax1, bins=100)\n",
    "ax1.set_yscale('log')\n",
    "ax1.tick_params(labelsize=12)\n",
    "ax1.set_title('Review Counts Histogram (original)', fontsize=12)\n",
    "ax1.set_xlabel('')\n",
    "ax1.set_ylabel('Occurrence', fontsize=12)\n",
    "\n",
    "biz_df['rc_log'].hist(ax=ax2, bins=100)\n",
    "ax2.set_yscale('log')\n",
    "ax2.tick_params(labelsize=12)\n",
    "ax2.set_title('Log Transformed Counts Histogram', fontsize=12)\n",
    "ax2.set_xlabel('')\n",
    "ax2.set_ylabel('Occurrence', fontsize=12)\n",
    "\n",
    "biz_df['rc_bc'].hist(ax=ax3, bins=100)\n",
    "ax3.set_yscale('log')\n",
    "ax3.tick_params(labelsize=12)\n",
    "ax3.set_title('Box-Cox Transformed Counts Histogram', fontsize=12)\n",
    "ax3.set_xlabel('')\n",
    "ax3.set_ylabel('Occurrence', fontsize=12)\n",
    "plt.show()"
   ]
  },
  {
   "cell_type": "markdown",
   "id": "4ee3a784",
   "metadata": {},
   "source": [
    "Probability plot"
   ]
  },
  {
   "cell_type": "code",
   "execution_count": 33,
   "id": "89f46cb4",
   "metadata": {
    "ExecuteTime": {
     "end_time": "2021-09-27T09:57:47.298448Z",
     "start_time": "2021-09-27T09:57:43.244794Z"
    }
   },
   "outputs": [
    {
     "data": {
      "image/png": "[encoded data removed]",
      "text/plain": [
       "<Figure size 432x288 with 3 Axes>"
      ]
     },
     "metadata": {},
     "output_type": "display_data"
    }
   ],
   "source": [
    "biz_df['rc_bc'] = rc_bc\n",
    "biz_df['rc_log'] = rc_log\n",
    "\n",
    "fig2, (ax1, ax2, ax3) = plt.subplots(3,1, constrained_layout=True)\n",
    "prob1 = stats.probplot(biz_df['review_count'], dist=stats.norm, plot=ax1)\n",
    "ax1.set_xlabel('')\n",
    "ax1.set_xlim(-4, 4)\n",
    "ax1.set_ylim(0, 4000)\n",
    "ax1.set_title('Probplot against normal distribution')\n",
    "\n",
    "prob2 = stats.probplot(biz_df['rc_log'], dist=stats.norm, plot=ax2)\n",
    "ax2.set_xlabel('')\n",
    "ax2.set_xlim(-4, 4)\n",
    "ax2.set_ylim(-2, 8)\n",
    "ax2.set_title('Probplot after log transform')\n",
    "\n",
    "prob3 = stats.probplot(biz_df['rc_bc'], dist=stats.norm, plot=ax3)\n",
    "ax3.set_xlabel('Theoretical quantiles')\n",
    "ax3.set_xlim(-4, 4)\n",
    "ax3.set_ylim(0.0, 3.0)\n",
    "ax3.set_title('Probplot after Box-Cox transform')\n",
    "plt.show()"
   ]
  },
  {
   "cell_type": "markdown",
   "id": "2059073c",
   "metadata": {},
   "source": [
    "## Escala ou normalização de recursos"
   ]
  },
  {
   "cell_type": "markdown",
   "id": "9f5c47cd",
   "metadata": {},
   "source": [
    "### Escala min-máx\n",
    "\n",
    "$$\\tilde{x} = \\frac{x - min(x)}{max(x) - min(x)}$$"
   ]
  },
  {
   "cell_type": "code",
   "execution_count": null,
   "id": "cbe278ed",
   "metadata": {},
   "outputs": [],
   "source": []
  },
  {
   "cell_type": "markdown",
   "id": "0bc8f890",
   "metadata": {},
   "source": [
    "### Padronização (escala de variância) \n",
    "\n",
    "$$\\tilde{x} = \\frac{x - mean(x)}{\\sqrt var(x)}$$"
   ]
  },
  {
   "cell_type": "code",
   "execution_count": null,
   "id": "1088a95a",
   "metadata": {},
   "outputs": [],
   "source": []
  },
  {
   "cell_type": "markdown",
   "id": "73d8c4a2",
   "metadata": {
    "ExecuteTime": {
     "end_time": "2021-09-27T10:31:28.076409Z",
     "start_time": "2021-09-27T10:31:28.027797Z"
    }
   },
   "source": [
    "### Normalização l²\n",
    "\n",
    "$$\\tilde{x} = \\frac{x}{\\|x\\|_2}$$"
   ]
  },
  {
   "cell_type": "code",
   "execution_count": null,
   "id": "daaef0a9",
   "metadata": {},
   "outputs": [],
   "source": []
  }
 ],
 "metadata": {
  "hide_input": false,
  "kernelspec": {
   "display_name": "Python 3",
   "language": "python",
   "name": "python3"
  },
  "language_info": {
   "codemirror_mode": {
    "name": "ipython",
    "version": 3
   },
   "file_extension": ".py",
   "mimetype": "text/x-python",
   "name": "python",
   "nbconvert_exporter": "python",
   "pygments_lexer": "ipython3",
   "version": "3.7.5"
  },
  "nbTranslate": {
   "displayLangs": [
    "*"
   ],
   "hotkey": "alt-t",
   "langInMainMenu": true,
   "sourceLang": "en",
   "targetLang": "fr",
   "useGoogleTranslate": true
  },
  "toc": {
   "base_numbering": 1,
   "nav_menu": {},
   "number_sections": false,
   "sideBar": false,
   "skip_h1_title": false,
   "title_cell": "Table of Contents",
   "title_sidebar": "Contents",
   "toc_cell": false,
   "toc_position": {},
   "toc_section_display": false,
   "toc_window_display": false
  },
  "varInspector": {
   "cols": {
    "lenName": 16,
    "lenType": 16,
    "lenVar": 40
   },
   "kernels_config": {
    "python": {
     "delete_cmd_postfix": "",
     "delete_cmd_prefix": "del ",
     "library": "var_list.py",
     "varRefreshCmd": "print(var_dic_list())"
    },
    "r": {
     "delete_cmd_postfix": ") ",
     "delete_cmd_prefix": "rm(",
     "library": "var_list.r",
     "varRefreshCmd": "cat(var_dic_list()) "
    }
   },
   "types_to_exclude": [
    "module",
    "function",
    "builtin_function_or_method",
    "instance",
    "_Feature"
   ],
   "window_display": false
  }
 },
 "nbformat": 4,
 "nbformat_minor": 5
}
